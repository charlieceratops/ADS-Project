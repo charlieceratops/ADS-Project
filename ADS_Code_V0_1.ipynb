{
  "nbformat": 4,
  "nbformat_minor": 0,
  "metadata": {
    "colab": {
      "name": "ADS Code V0_1.ipynb",
      "provenance": [],
      "collapsed_sections": []
    },
    "kernelspec": {
      "name": "python3",
      "display_name": "Python 3"
    },
    "language_info": {
      "name": "python"
    }
  },
  "cells": [
    {
      "cell_type": "markdown",
      "metadata": {
        "id": "ji1IGiWsnW26"
      },
      "source": [
        "###**Map simulation**\n",
        "\n",
        "1) Creation of Street and Place classes\n",
        "\n",
        "2) Creation of places, streets and extensions of streets\n",
        "\n",
        "3) List of locations"
      ]
    },
    {
      "cell_type": "code",
      "metadata": {
        "id": "uywAgUwQi9Hd"
      },
      "source": [
        "import heapq\n",
        "class Street():\n",
        "    def __init__(self, distance, startPlace, targetPlace):\n",
        "        self.distance = distance\n",
        "        self.startPlace = startPlace\n",
        "        self.targetPlace = targetPlace\n",
        "\n",
        "class Place():\n",
        "    def __init__(self, location):\n",
        "        self.location = location\n",
        "        self.name = None\n",
        "        self.category = None\n",
        "        self.description = None\n",
        "        self.visited = False\n",
        "        self.parent = None\n",
        "        self.shared = []\n",
        "        self.streets = []\n",
        "        self.minDistance = float(\"inf\")\n",
        "\n",
        "    def __lt__(self, other): \n",
        "        selfPriority = self.minDistance\n",
        "        otherPriority = other.minDistance\n",
        "        return selfPriority < otherPriority\n",
        "\n",
        "    def calculateDistance(self): \n",
        "        queue = []\n",
        "        startPlace = self\n",
        "        startPlace.minDistance = 0\n",
        "        heapq.heappush(queue, (startPlace.minDistance, startPlace))\n",
        "        while queue:\n",
        "            actualPlace = heapq.heappop(queue)[1]\n",
        "            for street in actualPlace.streets:\n",
        "              u = street.startPlace\n",
        "              v = street.targetPlace\n",
        "              newDistance = u.minDistance + street.distance\n",
        "              if newDistance < v.minDistance: \n",
        "                  v.parent = u\n",
        "                  v.minDistance = newDistance\n",
        "                  heapq.heappush(queue, (v.minDistance, v))"
      ],
      "execution_count": null,
      "outputs": []
    },
    {
      "cell_type": "code",
      "metadata": {
        "id": "R038XLGD_PBt"
      },
      "source": [
        "loc_101 = Place(101)\n",
        "loc_102 = Place(102)\n",
        "loc_103 = Place(103)\n",
        "loc_104 = Place(104)\n",
        "loc_105 = Place(105)\n",
        "loc_106 = Place(106)\n",
        "loc_107 = Place(107)\n",
        "loc_108 = Place(108)\n",
        "loc_109 = Place(109)\n",
        "loc_110 = Place(110)\n",
        "loc_111 = Place(111)\n",
        "loc_112 = Place(112)\n",
        "loc_113 = Place(113)\n",
        "loc_114 = Place(114)\n",
        "loc_115 = Place(115)\n",
        "loc_116 = Place(116)\n",
        "loc_117 = Place(117)\n",
        "loc_118 = Place(118)\n",
        "loc_119 = Place(119)\n",
        "loc_120 = Place(120)\n",
        "loc_121 = Place(121)\n",
        "loc_122 = Place(122)\n",
        "loc_123 = Place(123)\n",
        "loc_124 = Place(124)\n",
        "loc_125 = Place(125)\n",
        "loc_126 = Place(126)\n",
        "loc_127 = Place(127)\n",
        "loc_128 = Place(128)\n",
        "loc_129 = Place(129)\n",
        "loc_130 = Place(130)\n",
        "loc_131 = Place(131)\n",
        "loc_132 = Place(132)\n",
        "loc_133 = Place(133)\n",
        "loc_134 = Place(134)\n",
        "loc_135 = Place(135)\n",
        "loc_136 = Place(136)\n",
        "loc_137 = Place(137)\n",
        "loc_138 = Place(138)\n",
        "loc_139 = Place(139)\n",
        "loc_140 = Place(140)\n",
        "loc_141 = Place(141)\n",
        "loc_142 = Place(142)\n",
        "loc_143 = Place(143)\n",
        "loc_144 = Place(144)\n",
        "loc_145 = Place(145)\n",
        "loc_146 = Place(146)\n",
        "loc_147 = Place(147)\n",
        "loc_148 = Place(148)\n",
        "loc_149 = Place(149)\n",
        "loc_150 = Place(150)\n",
        "loc_151 = Place(151)\n",
        "loc_152 = Place(152)\n",
        "loc_153 = Place(153)\n",
        "loc_154 = Place(154)\n",
        "loc_155 = Place(155)\n",
        "loc_156 = Place(156)\n",
        "loc_157 = Place(157)\n",
        "loc_158 = Place(158)\n",
        "loc_159 = Place(159)\n",
        "loc_160 = Place(160)\n",
        "loc_161 = Place(161)\n",
        "loc_162 = Place(162)\n",
        "loc_163 = Place(163)"
      ],
      "execution_count": null,
      "outputs": []
    },
    {
      "cell_type": "code",
      "metadata": {
        "id": "yAcYmGEQDjHD"
      },
      "source": [
        "street1_2 = Street(230,loc_101,loc_102)\n",
        "street2_1 = Street(230,loc_102,loc_101)\n",
        "street2_3 = Street(150,loc_102,loc_103)\n",
        "street3_2 = Street(150,loc_103,loc_102)\n",
        "street3_4 = Street(170,loc_103,loc_104)\n",
        "street4_3 = Street(170,loc_104,loc_103)\n",
        "street4_5 = Street(200,loc_104,loc_105)\n",
        "street5_4 = Street(200,loc_105,loc_104)\n",
        "street5_6 = Street(250,loc_105,loc_106)\n",
        "street6_5 = Street(250,loc_106,loc_105)\n",
        "street6_7 = Street(90,loc_106,loc_107)\n",
        "street7_6 = Street(90,loc_107,loc_106)\n",
        "street7_8 = Street(90,loc_107,loc_108)\n",
        "street8_7 = Street(90,loc_108,loc_107)\n",
        "street8_9 = Street(100,loc_108,loc_109)\n",
        "street9_8 = Street(100,loc_109,loc_108)\n",
        "street9_10 = Street(225,loc_109,loc_110)\n",
        "street10_9 = Street(225,loc_110,loc_109)\n",
        "street10_11 = Street(225,loc_110,loc_111)\n",
        "street11_10 = Street(225,loc_111,loc_110)\n",
        "street11_12 = Street(180,loc_111,loc_112)\n",
        "street12_11 = Street(180,loc_112,loc_111)\n",
        "street12_13 = Street(230,loc_112,loc_113)\n",
        "street13_12 = Street(230,loc_113,loc_112)\n",
        "street13_14 = Street(170,loc_113,loc_114)\n",
        "street14_13 = Street(170,loc_114,loc_113)\n",
        "street14_15 = Street(250,loc_114,loc_115)\n",
        "street15_14 = Street(250,loc_115,loc_114)\n",
        "street15_16 = Street(250,loc_115,loc_116)\n",
        "street16_15 = Street(250,loc_116,loc_115)\n",
        "street16_17 = Street(230,loc_116,loc_117)\n",
        "street17_16 = Street(230,loc_117,loc_116)\n",
        "street17_18 = Street(150,loc_117,loc_118)\n",
        "street18_17 = Street(150,loc_118,loc_117)\n",
        "street18_19 = Street(300,loc_118,loc_119)\n",
        "street19_18 = Street(300,loc_119,loc_118)\n",
        "street19_20 = Street(150,loc_119,loc_120)\n",
        "street20_19 = Street(150,loc_120,loc_119)\n",
        "street20_21 = Street(150,loc_120,loc_121)\n",
        "street21_20 = Street(150,loc_121,loc_120)\n",
        "street22_21 = Street(150,loc_122,loc_121)\n",
        "street21_22 = Street(150,loc_121,loc_122)\n",
        "street22_1 = Street(400,loc_122,loc_101)\n",
        "street1_22 = Street(400,loc_101,loc_122)\n",
        "\n",
        "street1_45 = Street(180,loc_101,loc_145)\n",
        "street45_1 = Street(180,loc_145,loc_101)\n",
        "street2_23 = Street(100,loc_102,loc_123)\n",
        "street23_2 = Street(100,loc_123,loc_102)\n",
        "street23_47 = Street(100,loc_123,loc_147)\n",
        "street47_23 = Street(100,loc_147,loc_123)\n",
        "street47_48 = Street(180,loc_147,loc_148)\n",
        "street48_47 = Street(180,loc_148,loc_147)\n",
        "street24_48 = Street(100,loc_124,loc_148)\n",
        "street48_24 = Street(100,loc_148,loc_124)\n",
        "street4_24 = Street(250,loc_104,loc_124)\n",
        "street24_4 = Street(250,loc_124,loc_104)\n",
        "street5_25 = Street(200,loc_105,loc_125)\n",
        "street25_5 = Street(200,loc_125,loc_105)\n",
        "street25_26 = Street(150,loc_125,loc_126)\n",
        "street26_25 = Street(150,loc_126,loc_125)\n",
        "street24_26 = Street(350,loc_124,loc_126)\n",
        "street26_24 = Street(350,loc_126,loc_124)\n",
        "street26_27 = Street(100,loc_126,loc_127)\n",
        "street27_26 = Street(100,loc_127,loc_126)\n",
        "street6_27 = Street(200,loc_106,loc_127)\n",
        "street27_6 = Street(200,loc_127,loc_106)\n",
        "street27_28 = Street(150,loc_127,loc_128)\n",
        "street28_27 = Street(150,loc_128,loc_127)\n",
        "street7_28 = Street(100,loc_107,loc_128)\n",
        "street28_7 = Street(100,loc_128,loc_107)\n",
        "\n",
        "street9_29 = Street(170,loc_109,loc_129)\n",
        "street29_9 = Street(170,loc_129,loc_109)\n",
        "street29_50 = Street(250,loc_129,loc_150)\n",
        "street50_29 = Street(250,loc_150,loc_129)\n",
        "street10_30 = Street(100,loc_110,loc_130)\n",
        "street30_10 = Street(100,loc_130,loc_110)\n",
        "street11_31 = Street(140,loc_111,loc_131)\n",
        "street31_11 = Street(140,loc_131,loc_111)\n",
        "street31_51 = Street(80,loc_131,loc_151)\n",
        "street51_31 = Street(80,loc_151,loc_131)\n",
        "street51_32 = Street(150,loc_151,loc_132)\n",
        "street32_51 = Street(150,loc_132,loc_151)\n",
        "street12_32 = Street(90,loc_112,loc_132)\n",
        "street32_12 = Street(90,loc_132,loc_112)\n",
        "street13_33 = Street(100,loc_113,loc_133)\n",
        "street33_13 = Street(100,loc_133,loc_113)\n",
        "street33_34 = Street(50,loc_133,loc_134)\n",
        "street34_33 = Street(50,loc_134,loc_133)\n",
        "street34_52 = Street(50,loc_134,loc_152)\n",
        "street52_34 = Street(50,loc_152,loc_134)\n",
        "street33_35 = Street(180,loc_133,loc_135)\n",
        "street35_33 = Street(180,loc_135,loc_133)\n",
        "street35_36 = Street(220,loc_135,loc_136)\n",
        "street36_35 = Street(220,loc_136,loc_135)\n",
        "street15_36 = Street(100,loc_115,loc_136)\n",
        "street36_15 = Street(100,loc_136,loc_115)\n",
        "\n",
        "street36_37 = Street(100,loc_136,loc_137)\n",
        "street37_36 = Street(100,loc_137,loc_136)\n",
        "street36_55 = Street(70,loc_136,loc_155)\n",
        "street55_36 = Street(70,loc_155,loc_136)\n",
        "street18_38 = Street(150,loc_118,loc_138)\n",
        "street38_18 = Street(150,loc_138,loc_118)\n",
        "street38_39 = Street(60,loc_138,loc_139)\n",
        "street39_38 = Street(60,loc_139,loc_138)\n",
        "street39_56 = Street(100,loc_139,loc_150)\n",
        "street56_39 = Street(100,loc_150,loc_139)\n",
        "street38_40 = Street(100,loc_138,loc_140)\n",
        "street40_38 = Street(100,loc_140,loc_138)\n",
        "street40_41 = Street(100,loc_140,loc_141)\n",
        "street41_40 = Street(100,loc_141,loc_140)\n",
        "street41_59 = Street(100,loc_141,loc_159)\n",
        "street59_41 = Street(100,loc_159,loc_141)\n",
        "street19_59 = Street(320,loc_119,loc_159)\n",
        "street59_19 = Street(320,loc_159,loc_119)\n",
        "street20_42 = Street(70,loc_120,loc_142)\n",
        "street42_20 = Street(70,loc_142,loc_120)\n",
        "street42_59 = Street(150,loc_142,loc_159)\n",
        "street59_42 = Street(150,loc_159,loc_142)\n",
        "street22_43 = Street(230,loc_122,loc_143)\n",
        "street43_22 = Street(230,loc_143,loc_122)\n",
        "street43_60 = Street(130,loc_143,loc_160)\n",
        "street60_43 = Street(130,loc_160,loc_143)\n",
        "\n",
        "street22_44 = Street(160,loc_122,loc_144)\n",
        "street44_22 = Street(160,loc_144,loc_122)\n",
        "street44_62 = Street(100,loc_144,loc_162)\n",
        "street62_44 = Street(100,loc_162,loc_144)\n",
        "street44_45 = Street(150,loc_144,loc_145)\n",
        "street45_44 = Street(150,loc_145,loc_144)\n",
        "street27_49 = Street(100,loc_127,loc_149)\n",
        "street49_27 = Street(100,loc_149,loc_127)\n",
        "street45_46 = Street(100,loc_145,loc_146)\n",
        "street46_45 = Street(100,loc_146,loc_145)\n",
        "street46_47 = Street(50,loc_146,loc_147)\n",
        "street47_46 = Street(50,loc_147,loc_146)\n",
        "street46_48 = Street(230,loc_146,loc_148)\n",
        "street48_46 = Street(230,loc_148,loc_146)\n",
        "street46_63 = Street(200,loc_146,loc_163)\n",
        "street63_46 = Street(200,loc_163,loc_146)\n",
        "street48_49 = Street(250,loc_148,loc_149)\n",
        "street49_48 = Street(250,loc_149,loc_148)\n",
        "street48_63 = Street(340,loc_148,loc_163)\n",
        "street63_48 = Street(340,loc_163,loc_148)\n",
        "street63_49 = Street(400,loc_163,loc_149)\n",
        "street49_63 = Street(400,loc_149,loc_163)\n",
        "street49_50 = Street(210,loc_149,loc_150)\n",
        "street50_49 = Street(210,loc_150,loc_149)\n",
        "street50_63 = Street(300,loc_150,loc_163)\n",
        "street63_50 = Street(300,loc_163,loc_150)\n",
        "street50_51 = Street(150,loc_150,loc_151)\n",
        "street51_50 = Street(150,loc_151,loc_150)\n",
        "street51_63 = Street(270,loc_151,loc_163)\n",
        "street63_51 = Street(270,loc_163,loc_151)\n",
        "street51_52 = Street(230,loc_151,loc_152)\n",
        "street52_51 = Street(230,loc_152,loc_151)\n",
        "\n",
        "street52_53 = Street(50,loc_152,loc_153)\n",
        "street53_52 = Street(50,loc_153,loc_152)\n",
        "street54_53 = Street(50,loc_154,loc_153)\n",
        "street53_54 = Street(50,loc_153,loc_154)\n",
        "street54_63 = Street(80,loc_154,loc_163)\n",
        "street63_54 = Street(80,loc_163,loc_154)\n",
        "street55_63 = Street(350,loc_155,loc_163)\n",
        "street63_55 = Street(350,loc_163,loc_155)\n",
        "street55_56 = Street(100,loc_155,loc_156)\n",
        "street56_55 = Street(100,loc_156,loc_155)\n",
        "street57_56 = Street(100,loc_157,loc_156)\n",
        "street56_57 = Street(100,loc_156,loc_157)\n",
        "street57_58 = Street(100,loc_157,loc_158)\n",
        "street58_57 = Street(100,loc_158,loc_157)\n",
        "street63_58 = Street(100,loc_163,loc_158)\n",
        "street58_63 = Street(100,loc_158,loc_163)\n",
        "street59_56 = Street(170,loc_159,loc_156)\n",
        "street56_59 = Street(170,loc_156,loc_159)\n",
        "street59_58 = Street(210,loc_159,loc_158)\n",
        "street58_59 = Street(210,loc_158,loc_159)\n",
        "street59_60 = Street(150,loc_159,loc_160)\n",
        "street60_59 = Street(150,loc_160,loc_159)\n",
        "street61_60 = Street(150,loc_161,loc_160)\n",
        "street60_61 = Street(150,loc_160,loc_161)\n",
        "street61_63 = Street(100,loc_161,loc_163)\n",
        "street63_61 = Street(100,loc_163,loc_161)\n",
        "street61_62 = Street(100,loc_161,loc_162)\n",
        "street62_61 = Street(100,loc_162,loc_161)"
      ],
      "execution_count": null,
      "outputs": []
    },
    {
      "cell_type": "code",
      "metadata": {
        "id": "kGNDaFZa0C8u"
      },
      "source": [
        "loc_101.streets.extend([street1_2, street1_22, street1_45])\n",
        "loc_102.streets.extend([street2_1,street2_3,street2_23])\n",
        "loc_103.streets.extend([street3_2,street3_4])\n",
        "loc_104.streets.extend([street4_3,street4_5,street4_24])\n",
        "loc_105.streets.extend([street5_4,street5_6,street5_25])\n",
        "loc_106.streets.extend([street6_5,street6_7,street6_27])\n",
        "loc_107.streets.extend([street7_6,street7_8,street7_28])\n",
        "loc_108.streets.extend([street8_7,street8_9])\n",
        "loc_109.streets.extend([street9_8,street9_10,street9_29])\n",
        "loc_110.streets.extend([street10_9,street10_11,street10_30])\n",
        "loc_111.streets.extend([street11_10,street11_12,street11_31])\n",
        "loc_112.streets.extend([street12_11,street12_13,street12_32])\n",
        "loc_113.streets.extend([street13_12,street13_14,street13_33])\n",
        "loc_114.streets.extend([street14_13,street14_15])\n",
        "loc_115.streets.extend([street15_14,street15_16,street15_36])\n",
        "loc_116.streets.extend([street16_15,street16_17])\n",
        "loc_117.streets.extend([street17_16,street17_18])\n",
        "loc_118.streets.extend([street18_17,street18_19,street18_38])\n",
        "loc_119.streets.extend([street19_18,street19_20,street19_59])\n",
        "loc_120.streets.extend([street20_19,street20_21,street20_42])\n",
        "loc_121.streets.extend([street21_20,street21_22])\n",
        "loc_122.streets.extend([street22_1,street22_21,street22_43,street22_44])\n",
        "loc_123.streets.extend([street23_2,street23_47])\n",
        "loc_124.streets.extend([street24_4,street24_26,street24_48])\n",
        "loc_125.streets.extend([street25_5,street25_26])\n",
        "loc_126.streets.extend([street26_24,street26_25,street26_27])\n",
        "loc_127.streets.extend([street27_6,street27_26,street27_28,street27_49])\n",
        "loc_128.streets.extend([street28_7,street28_27])\n",
        "loc_129.streets.extend([street29_9,street29_50])\n",
        "loc_130.streets.append(street30_10)\n",
        "loc_131.streets.extend([street31_11,street31_51])\n",
        "loc_132.streets.extend([street32_12,street32_51])\n",
        "loc_133.streets.extend([street33_13,street33_34,street33_35])\n",
        "loc_134.streets.extend([street34_33,street34_52])\n",
        "loc_135.streets.extend([street35_33,street35_36])\n",
        "loc_136.streets.extend([street36_15,street36_35,street36_37,street36_55])\n",
        "loc_137.streets.append(street37_36)\n",
        "loc_138.streets.extend([street38_18,street38_39,street38_40])\n",
        "loc_139.streets.extend([street39_38,street39_56])\n",
        "loc_140.streets.extend([street40_38,street40_41])\n",
        "loc_141.streets.extend([street41_40,street41_59])\n",
        "loc_142.streets.extend([street42_20,street42_59])\n",
        "loc_143.streets.extend([street43_22,street43_60])\n",
        "loc_144.streets.extend([street44_22,street44_45,street44_62])\n",
        "loc_145.streets.extend([street45_1,street45_44,street45_46])\n",
        "loc_146.streets.extend([street46_45,street46_47,street46_48,street46_63])\n",
        "loc_147.streets.extend([street47_23,street47_46,street47_48])\n",
        "loc_148.streets.extend([street48_24,street48_46,street48_47,street48_49,street48_63])\n",
        "loc_149.streets.extend([street49_27,street49_48,street49_50,street49_63])\n",
        "loc_150.streets.extend([street50_29,street50_49,street50_51,street50_63])\n",
        "loc_151.streets.extend([street51_31,street51_32,street51_50,street51_52,street51_63])\n",
        "loc_152.streets.extend([street52_34,street52_51,street52_53])\n",
        "loc_153.streets.extend([street53_54,street53_52])\n",
        "loc_154.streets.extend([street54_53,street54_63])\n",
        "loc_155.streets.extend([street55_36,street55_56,street55_63])\n",
        "loc_156.streets.extend([street56_39,street56_55,street56_57,street56_59])\n",
        "loc_157.streets.extend([street57_56,street57_58])\n",
        "loc_158.streets.extend([street58_57,street58_59,street58_63])\n",
        "loc_159.streets.extend([street59_19,street59_41,street59_42,street59_56,street59_58,street59_60])\n",
        "loc_160.streets.extend([street60_43,street60_59,street60_61])\n",
        "loc_161.streets.extend([street61_60,street61_62,street61_63])\n",
        "loc_162.streets.extend([street62_44,street62_61])\n",
        "loc_163.streets.extend([street63_46,street63_48,street63_49,street63_50,street63_51,street63_54,street63_55,street63_58,street63_61])\n"
      ],
      "execution_count": null,
      "outputs": []
    },
    {
      "cell_type": "code",
      "metadata": {
        "id": "PlydU_MhHoxq"
      },
      "source": [
        "list_locations = [loc_101, loc_102, loc_103, loc_104, loc_105, loc_106, loc_107, loc_108, loc_109, loc_110,\n",
        "                  loc_111, loc_112, loc_113, loc_114, loc_115, loc_116, loc_117, loc_118, loc_119, loc_120,\n",
        "                  loc_121, loc_122, loc_123, loc_124, loc_125, loc_126, loc_127, loc_128, loc_129, loc_130,\n",
        "                  loc_131, loc_132, loc_133, loc_134, loc_135, loc_136, loc_137, loc_138, loc_139, loc_140,\n",
        "                  loc_141, loc_142, loc_143, loc_144, loc_145, loc_146, loc_147, loc_148, loc_149, loc_150,\n",
        "                  loc_151, loc_152, loc_153, loc_154, loc_155, loc_156, loc_157, loc_158, loc_159, loc_160,\n",
        "                  loc_161, loc_162, loc_163]"
      ],
      "execution_count": null,
      "outputs": []
    },
    {
      "cell_type": "markdown",
      "metadata": {
        "id": "dg87mLUDoFFk"
      },
      "source": [
        "###**Cretion of user class**\n",
        "\n",
        "1) Creation of user class\n",
        "\n",
        "2) Example users"
      ]
    },
    {
      "cell_type": "code",
      "metadata": {
        "id": "U9OpuZNOXZWu"
      },
      "source": [
        "\n",
        "class User():\n",
        "  def __init__(self,username):\n",
        "    self.username = username\n",
        "    self.distance_notif = None\n",
        "    self.friends = []\n",
        "    self.current_location = None\n",
        "    self.saved_places = []\n",
        "\n",
        "  def addLocation(self):\n",
        "    name = input(\"What is the name of the place? >> \")\n",
        "\n",
        "    while True:\n",
        "      location = input(\"Where is the place? (101-163) >> \")\n",
        "      if 101<=int(location) and int(location)<=163:\n",
        "        index = int(location)-101\n",
        "        location = list_locations[index]\n",
        "        break\n",
        "      else:\n",
        "        print(\"We couldn't find such a location, do you want to try one more time? \")\n",
        "    \n",
        "    while True:\n",
        "    category = input(\"What type of location is it? (Restaurant, Cinema, Club, Store, Museum, Plaza, Transport, Park, Other) >> \")\n",
        "      if len(category) < 4 or len(category) > 40:\n",
        "        print(\"Category must be longer than 4 characters and shorter than 40, please try again\")\n",
        "      else:\n",
        "        std_category = category.strip().lower()\n",
        "    \n",
        "    notes = input(\"Is there anything else you would like to add? >> \")\n",
        "\n",
        "    location.name = name\n",
        "    location.category = category\n",
        "    location.description = notes\n",
        "    self.saved_places.append(location)\n",
        "  def showAllLocations(self):\n",
        "    while True:\n",
        "      question = input(\"Would you like to see all locations? (Y/N) >> \")\n",
        "      if question is \"Y\":\n",
        "        for location in self.saved_places:\n",
        "          print(location.name)\n",
        "        break\n",
        "      elif question is \"N\":\n",
        "        break\n",
        "      else:\n",
        "        print(\"Please select a valid option\")\n",
        "\n",
        "  def showALocation(self):\n",
        "    while True:\n",
        "      question = input(\"Which location would you like to see? (N to exit) >> \") # This is valid text-based, instead of this a button selection for graphic version\n",
        "      found_place = None\n",
        "      if question is \"N\":\n",
        "        break\n",
        "      else: \n",
        "        for x in self.saved_places:\n",
        "          if question == x.name:\n",
        "            found_place = x\n",
        "      if found_place == None:\n",
        "        print(\"Location\",\"'\"+str(question)+\"'\", \"not found\")\n",
        "      else: \n",
        "        print(found_place.name, found_place.category, found_place.description)\n",
        "\n",
        "\n",
        "  def notify(self):\n",
        "    for x in list_locations:\n",
        "      x.minDistance = float(\"inf\")\n",
        "    while True:\n",
        "      loc_insert = input(\"Insert a location (101-163) or press Enter to get your current location: \")\n",
        "      if loc_insert == \"\":\n",
        "        location = self.current_location\n",
        "        break\n",
        "      elif 101<=int(loc_insert) and int(loc_insert)<=163:\n",
        "        index = int(loc_insert)-101\n",
        "        location = list_locations[index]\n",
        "        break\n",
        "    list_places_near = []\n",
        "    location.calculateDistance() \n",
        "    for x in self.saved_places:\n",
        "      if x.minDistance <= self.distance_notif:\n",
        "        list_places_near.append(x)\n",
        "    if len(list_places_near)>0 :\n",
        "      list_places_near.sort(key=lambda x:x.minDistance)\n",
        "      for x in list_places_near:\n",
        "        print(x.name,x.minDistance,x.category)\n",
        "    else:\n",
        "      print(\"Oops, it looks like you are too far from anything interesting\")\n",
        "\n",
        "  def find_friends(self):\n",
        "    for x in list_locations:\n",
        "      x.minDistance = float(\"inf\")\n",
        "    while True:\n",
        "      loc_insert = input(\"Insert a location (101-163) or press Enter to get your current location: \")\n",
        "      if loc_insert == \"\":\n",
        "        location = self.current_location\n",
        "        break\n",
        "      elif 101<=int(loc_insert) and int(loc_insert)<=163:\n",
        "        index = int(loc_insert)-101\n",
        "        location = list_locations[index]\n",
        "        break\n",
        "    close_friends = []\n",
        "    location.calculateDistance()\n",
        "    for i in self.friends:\n",
        "      if i.current_location.minDistance<=self.distance_notif:\n",
        "        close_friends.append(i)\n",
        "    if len(close_friends)>0 :\n",
        "      close_friends.sort(key=lambda x:x.current_location.minDistance)\n",
        "      for j in close_friends:\n",
        "        print(j.username,\"is at\", j.current_location.minDistance, \"meters from you! That's at\", j.current_location.name)\n",
        "    else:\n",
        "      print(\"Oops, looks like there are no friends in the area\")\n",
        "    "
      ],
      "execution_count": null,
      "outputs": []
    },
    {
      "cell_type": "code",
      "metadata": {
        "id": "Io-aMIxnYIj4"
      },
      "source": [
        "user_user = User(\"Add a Username\")\n",
        "user_user.current_location = #Add a location, for instance, loc_163\n",
        "user_user.distance_notif = #Add a distance"
      ],
      "execution_count": null,
      "outputs": []
    },
    {
      "cell_type": "code",
      "metadata": {
        "id": "QIl8pKxwbmPF"
      },
      "source": [
        "friend1 = User(\"username\")\n",
        "friend1.current_location = #add a location\n",
        "friend2 = User(\"username\")\n",
        "friend2.current_location = #add a location\n",
        "friend3 = User(\"username\")\n",
        "friend3.current_location = #add a location\n",
        "friend4 = User(\"username\")\n",
        "friend4.current_location = #add a location\n",
        "friend5 = User(\"username\")\n",
        "friend5.current_location = #add a location"
      ],
      "execution_count": null,
      "outputs": []
    },
    {
      "cell_type": "code",
      "metadata": {
        "id": "8rryIR-GdB7z"
      },
      "source": [
        "user_user.friends.extend([friend1, friend2, friend3, friend4, friend5])"
      ],
      "execution_count": null,
      "outputs": []
    },
    {
      "cell_type": "markdown",
      "metadata": {
        "id": "N0nTSnnKmeMi"
      },
      "source": [
        "###**Creation of locations/places**\n",
        "\n",
        "1) Location class\n",
        "\n",
        "2) Dictionary of saved locations\n",
        "\n",
        "3) Function to add locations\n",
        "\n",
        "4) Functions to show one or all locations"
      ]
    },
    {
      "cell_type": "code",
      "metadata": {
        "colab": {
          "base_uri": "https://localhost:8080/"
        },
        "id": "E6-ga6OYUAtL",
        "outputId": "7db90567-2e4a-4039-aad1-73a970a6df6d"
      },
      "source": [
        "user_user.addLocation() #run this function as many times as you want"
      ],
      "execution_count": null,
      "outputs": [
        {
          "output_type": "stream",
          "text": [
            "What is the name of the place? >> ABC Serrano\n",
            "Where is the place? (101-163) >> 145\n",
            "What type of location is it? (Restaurant, Cinema, Club, Store, Museum, Plaza, Transport, Park, Other) >> Shopping Mall\n",
            "Is there anything else you would like to add? >> A bit expensive, but still cool!\n"
          ],
          "name": "stdout"
        }
      ]
    },
    {
      "cell_type": "code",
      "metadata": {
        "colab": {
          "base_uri": "https://localhost:8080/"
        },
        "id": "l9AzviKqWgqL",
        "outputId": "00d9a5d7-b0ad-4e4d-b5dc-aaa9c4598eab"
      },
      "source": [
        "user_user.showAllLocations()"
      ],
      "execution_count": null,
      "outputs": [
        {
          "output_type": "stream",
          "text": [
            "Would you like to see all locations? (Y/N) >> Y\n",
            "IE University\n",
            "Retiro\n",
            "RIU\n",
            "Puerta del Sol\n",
            "ABC Serrano\n"
          ],
          "name": "stdout"
        }
      ]
    },
    {
      "cell_type": "code",
      "metadata": {
        "id": "-Wb-2YuDnGNm",
        "colab": {
          "base_uri": "https://localhost:8080/"
        },
        "outputId": "958dcf99-817b-4667-e31e-38a81667e299"
      },
      "source": [
        "user_user.showALocation()"
      ],
      "execution_count": null,
      "outputs": [
        {
          "output_type": "stream",
          "text": [
            "Which location would you like to see? (N to exit) >> RIU\n",
            "RIU Bar Perfect Views\n",
            "Which location would you like to see? (N to exit) >> Puerta del Sol\n",
            "Puerta del Sol Building Very touristic, but still interesting\n",
            "Which location would you like to see? (N to exit) >> Greek and Store\n",
            "Location 'Greek and Store' not found\n",
            "Which location would you like to see? (N to exit) >> N\n"
          ],
          "name": "stdout"
        }
      ]
    },
    {
      "cell_type": "markdown",
      "metadata": {
        "id": "Vb-megpgnygt"
      },
      "source": [
        "### **Notification function**\n",
        "\n",
        "1) Creation of some places and saved places (IGNORE)\n",
        "\n",
        "2) Notification function v1 and v2"
      ]
    },
    {
      "cell_type": "code",
      "metadata": {
        "colab": {
          "base_uri": "https://localhost:8080/"
        },
        "id": "_xIduNgwye8o",
        "outputId": "a8723ef5-5ca5-43bb-bebc-42c56da80d6c"
      },
      "source": [
        "user_user.notify()"
      ],
      "execution_count": null,
      "outputs": [
        {
          "output_type": "stream",
          "text": [
            "Insert a location (101-163) or press Enter to get your current location: \n",
            "ABC Serrano 180 Shopping Mall\n",
            "IE University 750 Building\n"
          ],
          "name": "stdout"
        }
      ]
    },
    {
      "cell_type": "markdown",
      "metadata": {
        "id": "dR7zdK_2oR6W"
      },
      "source": [
        "###**Finding Friends**\n",
        "\n",
        "1) Find friends function"
      ]
    },
    {
      "cell_type": "code",
      "metadata": {
        "id": "yhnoUcPoi_b8",
        "colab": {
          "base_uri": "https://localhost:8080/"
        },
        "outputId": "a48f456f-d10f-4863-f665-11affbdb3e2e"
      },
      "source": [
        "user_user.find_friends()"
      ],
      "execution_count": null,
      "outputs": [
        {
          "output_type": "stream",
          "text": [
            "Insert a location (101-163) or press Enter to get your current location: \n",
            "taylor_swift is at 180 meters from you! That's at ABC Serrano\n"
          ],
          "name": "stdout"
        }
      ]
    }
  ]
}